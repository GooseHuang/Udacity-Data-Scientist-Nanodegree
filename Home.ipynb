{
 "cells": [
  {
   "cell_type": "code",
   "execution_count": 6,
   "metadata": {},
   "outputs": [
    {
     "data": {
      "text/plain": [
       "2.8284271247461903"
      ]
     },
     "execution_count": 6,
     "metadata": {},
     "output_type": "execute_result"
    }
   ],
   "source": [
    "2*2**0.5"
   ]
  },
  {
   "cell_type": "code",
   "execution_count": 8,
   "metadata": {},
   "outputs": [
    {
     "data": {
      "text/plain": [
       "2.718281828459045"
      ]
     },
     "execution_count": 8,
     "metadata": {},
     "output_type": "execute_result"
    }
   ],
   "source": [
    "import math\n",
    "math.e"
   ]
  },
  {
   "cell_type": "code",
   "execution_count": 9,
   "metadata": {},
   "outputs": [
    {
     "data": {
      "text/plain": [
       "3.141592653589793"
      ]
     },
     "execution_count": 9,
     "metadata": {},
     "output_type": "execute_result"
    }
   ],
   "source": [
    "math.pi"
   ]
  },
  {
   "cell_type": "code",
   "execution_count": 7,
   "metadata": {},
   "outputs": [
    {
     "data": {
      "text/plain": [
       "3.3137084989847607"
      ]
     },
     "execution_count": 7,
     "metadata": {},
     "output_type": "execute_result"
    }
   ],
   "source": [
    "4*2**0.5/(1+0.5*2**0.5)"
   ]
  },
  {
   "cell_type": "code",
   "execution_count": 5,
   "metadata": {},
   "outputs": [
    {
     "name": "stdout",
     "output_type": "stream",
     "text": [
      "0.01\n",
      "0.01019995960412038\n",
      "0.010403875573686895\n",
      "0.010611824492314351\n",
      "0.010823884357590845\n",
      "0.011040134604405808\n",
      "0.011260656128547476\n",
      "0.011485531310567792\n",
      "0.011714844039912214\n",
      "0.011948679739311876\n",
      "0.012187125389434922\n",
      "0.012430269553793675\n",
      "0.012678202403903889\n",
      "0.012931015744691864\n",
      "0.013188803040144916\n",
      "0.013451659439200233\n",
      "0.013719681801866647\n",
      "0.01399296872557348\n",
      "0.014271620571740144\n",
      "0.01455573949255956\n",
      "0.014845429457988129\n",
      "0.01514079628293423\n",
      "0.015441947654636929\n",
      "0.015748993160225686\n",
      "0.01606204431445151\n",
      "0.01638121458757921\n",
      "0.016706619433429864\n",
      "0.01703837631756176\n",
      "0.017376604745577617\n",
      "0.017721426291544922\n",
      "0.01807296462651556\n",
      "0.018431345547130166\n",
      "0.018796697004291773\n",
      "0.01916914913189236\n",
      "0.019548834275575386\n",
      "0.019935887021515893\n",
      "0.02033044422519963\n",
      "0.020732645040180832\n",
      "0.02114263094679791\n",
      "0.021560545780825027\n",
      "0.02198653576203646\n",
      "0.02242074952265959\n",
      "0.022863338135691254\n",
      "0.023314455143050975\n",
      "0.023774256583543395\n",
      "0.02424290102060097\n",
      "0.02472054956977685\n",
      "0.02520736592595626\n",
      "0.0257035163902537\n",
      "0.026209169896561635\n",
      "0.026724498037714987\n",
      "0.0272496750912344\n",
      "0.027784878044609523\n",
      "0.028330286620082298\n",
      "0.028886083298888216\n",
      "0.02945245334491267\n",
      "0.03002958482771686\n",
      "0.03061766864488693\n",
      "0.03121689854365776\n",
      "0.03182747114176127\n",
      "0.032449585947447276\n",
      "0.03308344537862295\n",
      "0.03372925478105552\n",
      "0.03438722244558029\n",
      "0.03505755962425467\n",
      "0.03574048054539679\n",
      "0.03643620242744509\n",
      "0.037144945491573524\n",
      "0.037866932972994906\n",
      "0.03860239113088267\n",
      "0.03935154925683952\n",
      "0.0401146396818391\n",
      "0.04089189778156486\n",
      "0.04168356198006798\n",
      "0.042489873751664256\n",
      "0.04331107762098749\n",
      "0.044147421161115\n",
      "0.044999154989678464\n",
      "0.04586653276287125\n",
      "0.04674981116726134\n",
      "0.04764924990931668\n",
      "0.048565111702547556\n",
      "0.049497662252168895\n",
      "0.05044717023718285\n",
      "0.05141390728978036\n",
      "0.05239814797195801\n",
      "0.05340016974924507\n",
      "0.05442025296143311\n",
      "0.055458680790199236\n",
      "0.05651573922351197\n",
      "0.05759171701670714\n",
      "0.05868690565011965\n",
      "0.05980159928315528\n",
      "0.060936094704685494\n",
      "0.0620906912796469\n",
      "0.0632656908917256\n",
      "0.06446139788200586\n",
      "0.06567811898346186\n",
      "0.06691616325116963\n",
      "0.06817584198811726\n",
      "0.06945746866648929\n",
      "0.07076135884430268\n",
      "0.07208783007727032\n",
      "0.07343720182576939\n",
      "0.07480979535679178\n",
      "0.07620593364075448\n",
      "0.07762594124304915\n",
      "0.07907014421021091\n",
      "0.0805388699505885\n",
      "0.08203244710939893\n",
      "0.08355120543805297\n",
      "0.08509547565763949\n",
      "0.0866655893164598\n",
      "0.0882618786415066\n",
      "0.0898846763837852\n",
      "0.09153431565737935\n",
      "0.09321112977216787\n",
      "0.09491545206010345\n",
      "0.09664761569496978\n",
      "0.09840795350554025\n",
      "0.10019679778206547\n",
      "0.10201448007602598\n",
      "0.10386133099309187\n",
      "0.10573767997923988\n",
      "0.10764385509998627\n",
      "0.10958018281270275\n",
      "0.11154698773199213\n",
      "0.11354459238811017\n",
      "0.1155733169784304\n",
      "0.11763347911196066\n",
      "0.1197253935469301\n",
      "0.1218493719214793\n",
      "0.12400572247749803\n",
      "0.12619474977766876\n",
      "0.1284167544157881\n",
      "0.13067203272045302\n",
      "0.13296087645221363\n",
      "0.13528357249431025\n",
      "0.13764040253712911\n",
      "0.14003164275652683\n",
      "0.14245756348619273\n",
      "0.14491842888423506\n",
      "0.14741449659419556\n",
      "0.14994601740071606\n",
      "0.1525132348801008\n",
      "0.15511638504603661\n",
      "0.15775569599075442\n",
      "0.1604313875219356\n",
      "0.1631436707956883\n",
      "0.16589274794593895\n",
      "0.1686788117106058\n",
      "0.1715020450549452\n",
      "0.17436262079247847\n",
      "0.17726070120393397\n",
      "0.18019643765465757\n",
      "0.1831699702109673\n",
      "0.1861814272559503\n",
      "0.18923092510522097\n",
      "0.19231856762318006\n",
      "0.19544444584033682\n",
      "0.1986086375722746\n",
      "0.20181120704086195\n",
      "0.20505220449832992\n",
      "0.2083316658548548\n",
      "0.2116496123103036\n",
      "0.21500604999081627\n",
      "0.21840096959091546\n",
      "0.22183434602184832\n",
      "0.22530613806688013\n",
      "0.22881628804427054\n",
      "0.2323647214786762\n",
      "0.23595134678173116\n",
      "0.2395760549425671\n",
      "0.24323871922903967\n",
      "0.2469391949004338\n",
      "0.2506773189324229\n",
      "0.2544529097550587\n",
      "0.25826576700456627\n",
      "0.26211567128971797\n",
      "0.2660023839735528\n",
      "0.2699256469712015\n",
      "0.2738851825645679\n",
      "0.27788069323460507\n",
      "0.2819118615119105\n",
      "0.2859783498463473\n",
      "0.29007980049638027\n",
      "0.2942158354387928\n",
      "0.29838605629942655\n",
      "0.30259004430556036\n",
      "0.3068273602605133\n",
      "0.3110975445410278\n",
      "0.3154001171179506\n",
      "0.31973457760069873\n",
      "0.32410040530595097\n",
      "0.3284970593509709\n",
      "0.33292397877191976\n",
      "0.33738058266747284\n",
      "0.34186627036800543\n",
      "0.3463804216305643\n",
      "0.35092239685978976\n"
     ]
    }
   ],
   "source": [
    "n = 10\n",
    "for n in range(200):\n",
    "    A = 0.01* 1.01**n\n",
    "    B = 0.99 * 0.99**n \n",
    "    print(A/ (A+B))"
   ]
  },
  {
   "cell_type": "code",
   "execution_count": 20,
   "metadata": {},
   "outputs": [
    {
     "data": {
      "text/plain": [
       "(array([5., 8.]), array([0. , 0.5, 1. ]), <a list of 2 Patch objects>)"
      ]
     },
     "execution_count": 20,
     "metadata": {},
     "output_type": "execute_result"
    },
    {
     "data": {
      "image/png": "[encoded data removed]",
      "text/plain": [
       "<Figure size 432x288 with 1 Axes>"
      ]
     },
     "metadata": {
      "needs_background": "light"
     },
     "output_type": "display_data"
    }
   ],
   "source": [
    "data = [1,0,0,0,1,1,1,1,1,1,0,0,1]\n",
    "plt.hist(data,bins=2)"
   ]
  },
  {
   "cell_type": "code",
   "execution_count": 12,
   "metadata": {},
   "outputs": [
    {
     "data": {
      "image/png": "[encoded data removed]",
      "text/plain": [
       "<Figure size 432x288 with 1 Axes>"
      ]
     },
     "metadata": {
      "needs_background": "light"
     },
     "output_type": "display_data"
    }
   ],
   "source": [
    "import matplotlib.pyplot as plt\n",
    "%matplotlib inline  \n",
    "\n",
    "x = [1,2,3,4,5,6,7,8,1,2,3,4,2,3,4,1,2,3,1]\n",
    "plt.hist(x, bins =3)\n",
    "plt.title(\"Histogram with 'auto' bins\")\n",
    "plt.xlabel('xlabel', fontsize=18)\n",
    "plt.ylabel('ylabel', fontsize=16)\n",
    "plt.show()"
   ]
  },
  {
   "cell_type": "code",
   "execution_count": 7,
   "metadata": {},
   "outputs": [],
   "source": [
    "import math"
   ]
  },
  {
   "cell_type": "code",
   "execution_count": 6,
   "metadata": {},
   "outputs": [
    {
     "ename": "NameError",
     "evalue": "name 'mean' is not defined",
     "output_type": "error",
     "traceback": [
      "\u001b[0;31m---------------------------------------------------------------------------\u001b[0m",
      "\u001b[0;31mNameError\u001b[0m                                 Traceback (most recent call last)",
      "\u001b[0;32m<ipython-input-6-d10ac0b6465b>\u001b[0m in \u001b[0;36m<module>\u001b[0;34m\u001b[0m\n\u001b[0;32m----> 1\u001b[0;31m \u001b[0mmean\u001b[0m\u001b[0;34m(\u001b[0m\u001b[0;34m[\u001b[0m\u001b[0;36m1\u001b[0m\u001b[0;34m,\u001b[0m\u001b[0;36m2\u001b[0m\u001b[0;34m,\u001b[0m\u001b[0;36m3\u001b[0m\u001b[0;34m]\u001b[0m\u001b[0;34m)\u001b[0m\u001b[0;34m\u001b[0m\u001b[0;34m\u001b[0m\u001b[0m\n\u001b[0m",
      "\u001b[0;31mNameError\u001b[0m: name 'mean' is not defined"
     ]
    }
   ],
   "source": [
    "math.([1,2,3])"
   ]
  },
  {
   "cell_type": "code",
   "execution_count": 1,
   "metadata": {},
   "outputs": [
    {
     "data": {
      "text/plain": [
       "-0.7231015260621871"
      ]
     },
     "execution_count": 1,
     "metadata": {},
     "output_type": "execute_result"
    }
   ],
   "source": [
    "(7-9)/7.65**0.5"
   ]
  },
  {
   "cell_type": "code",
   "execution_count": 2,
   "metadata": {},
   "outputs": [
    {
     "data": {
      "text/plain": [
       "-1.0846522890932808"
      ]
     },
     "execution_count": 2,
     "metadata": {},
     "output_type": "execute_result"
    }
   ],
   "source": [
    "(6-9)/7.65**0.5"
   ]
  },
  {
   "cell_type": "code",
   "execution_count": 5,
   "metadata": {},
   "outputs": [
    {
     "name": "stdout",
     "output_type": "stream",
     "text": [
      "-0.5423261445466404\n",
      "-0.903876907577734\n"
     ]
    }
   ],
   "source": [
    "print((7.5-9)/7.65**0.5)\n",
    "print((6.5-9)/7.65**0.5)"
   ]
  },
  {
   "cell_type": "code",
   "execution_count": 3,
   "metadata": {},
   "outputs": [
    {
     "data": {
      "text/plain": [
       "3.0"
      ]
     },
     "execution_count": 3,
     "metadata": {},
     "output_type": "execute_result"
    }
   ],
   "source": [
    "from scipy.special import comb, perm\n",
    "\n",
    "perm(3,2)     #计算排列数    6\n",
    "\n",
    "comb(3,2)   #计算组合数     3"
   ]
  },
  {
   "cell_type": "code",
   "execution_count": null,
   "metadata": {},
   "outputs": [],
   "source": []
  }
 ],
 "metadata": {
  "kernelspec": {
   "display_name": "Python 3",
   "language": "python",
   "name": "python3"
  },
  "language_info": {
   "codemirror_mode": {
    "name": "ipython",
    "version": 3
   },
   "file_extension": ".py",
   "mimetype": "text/x-python",
   "name": "python",
   "nbconvert_exporter": "python",
   "pygments_lexer": "ipython3",
   "version": "3.7.3"
  }
 },
 "nbformat": 4,
 "nbformat_minor": 2
}
